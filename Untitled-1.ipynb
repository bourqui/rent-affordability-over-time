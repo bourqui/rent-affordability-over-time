{
 "cells": [
  {
   "cell_type": "markdown",
   "metadata": {},
   "source": [
    "This notebook explores historical 1-bedroom median rents in major U.S. cities using Zillow’s public dataset. I wanted to understand how affordability has shifted over time, and this notebook is the first step: loading and transforming raw rent data."
   ]
  },
  {
   "cell_type": "markdown",
   "metadata": {},
   "source": [
    "## 1. Gather data\n",
    "\n",
    "First I'm going to download the raw data for the Zillow Observed Rent Index for the cities I'm interested in. I'm looking for city rent data over time, so I want something longitudinal.\n",
    "\n",
    "![Alt text](image1.png)"
   ]
  },
  {
   "cell_type": "code",
   "execution_count": 7,
   "metadata": {},
   "outputs": [
    {
     "name": "stdout",
     "output_type": "stream",
     "text": [
      "Collecting pandas\n",
      "  Downloading pandas-2.2.3-cp310-cp310-macosx_11_0_arm64.whl (11.3 MB)\n",
      "\u001b[K     |████████████████████████████████| 11.3 MB 1.3 MB/s eta 0:00:01\n",
      "\u001b[?25hCollecting requests\n",
      "  Downloading requests-2.32.3-py3-none-any.whl (64 kB)\n",
      "\u001b[K     |████████████████████████████████| 64 kB 8.0 MB/s  eta 0:00:01\n",
      "\u001b[?25hCollecting numpy>=1.22.4\n",
      "  Downloading numpy-2.2.4-cp310-cp310-macosx_14_0_arm64.whl (5.4 MB)\n",
      "\u001b[K     |████████████████████████████████| 5.4 MB 18.0 MB/s eta 0:00:01\n",
      "\u001b[?25hCollecting tzdata>=2022.7\n",
      "  Downloading tzdata-2025.2-py2.py3-none-any.whl (347 kB)\n",
      "\u001b[K     |████████████████████████████████| 347 kB 19.9 MB/s eta 0:00:01\n",
      "\u001b[?25hCollecting pytz>=2020.1\n",
      "  Downloading pytz-2025.2-py2.py3-none-any.whl (509 kB)\n",
      "\u001b[K     |████████████████████████████████| 509 kB 11.9 MB/s eta 0:00:01\n",
      "\u001b[?25hRequirement already satisfied: python-dateutil>=2.8.2 in /Users/martin/Library/Python/3.10/lib/python/site-packages (from pandas) (2.9.0.post0)\n",
      "Collecting charset-normalizer<4,>=2\n",
      "  Downloading charset_normalizer-3.4.1-cp310-cp310-macosx_10_9_universal2.whl (198 kB)\n",
      "\u001b[K     |████████████████████████████████| 198 kB 24.3 MB/s eta 0:00:01\n",
      "\u001b[?25hCollecting urllib3<3,>=1.21.1\n",
      "  Downloading urllib3-2.3.0-py3-none-any.whl (128 kB)\n",
      "\u001b[K     |████████████████████████████████| 128 kB 26.6 MB/s eta 0:00:01\n",
      "\u001b[?25hCollecting idna<4,>=2.5\n",
      "  Downloading idna-3.10-py3-none-any.whl (70 kB)\n",
      "\u001b[K     |████████████████████████████████| 70 kB 16.1 MB/s eta 0:00:01\n",
      "\u001b[?25hCollecting certifi>=2017.4.17\n",
      "  Downloading certifi-2025.1.31-py3-none-any.whl (166 kB)\n",
      "\u001b[K     |████████████████████████████████| 166 kB 21.3 MB/s eta 0:00:01\n",
      "\u001b[?25hRequirement already satisfied: six>=1.5 in /Users/martin/Library/Python/3.10/lib/python/site-packages (from python-dateutil>=2.8.2->pandas) (1.17.0)\n",
      "Installing collected packages: urllib3, tzdata, pytz, numpy, idna, charset-normalizer, certifi, requests, pandas\n",
      "Successfully installed certifi-2025.1.31 charset-normalizer-3.4.1 idna-3.10 numpy-2.2.4 pandas-2.2.3 pytz-2025.2 requests-2.32.3 tzdata-2025.2 urllib3-2.3.0\n",
      "\u001b[33mWARNING: You are using pip version 21.2.4; however, version 25.0.1 is available.\n",
      "You should consider upgrading via the '/usr/local/bin/python3 -m pip install --upgrade pip' command.\u001b[0m\n",
      "Note: you may need to restart the kernel to use updated packages.\n"
     ]
    }
   ],
   "source": [
    "   %pip install pandas requests"
   ]
  },
  {
   "cell_type": "code",
   "execution_count": 8,
   "metadata": {},
   "outputs": [],
   "source": [
    "import pandas as pd\n",
    "import requests"
   ]
  },
  {
   "cell_type": "code",
   "execution_count": 11,
   "metadata": {},
   "outputs": [
    {
     "name": "stdout",
     "output_type": "stream",
     "text": [
      "DataFrame Info:\n",
      "<class 'pandas.core.frame.DataFrame'>\n",
      "RangeIndex: 3307 entries, 0 to 3306\n",
      "Columns: 130 entries, RegionID to 2025-02-28\n",
      "dtypes: float64(122), int64(2), object(6)\n",
      "memory usage: 3.3+ MB\n",
      "None\n",
      "\n",
      "First few rows:\n",
      "   RegionID  SizeRank   RegionName RegionType StateName State  \\\n",
      "0      6181         0     New York       city        NY    NY   \n",
      "1     12447         1  Los Angeles       city        CA    CA   \n",
      "2     39051         2      Houston       city        TX    TX   \n",
      "3     17426         3      Chicago       city        IL    IL   \n",
      "4      6915         4  San Antonio       city        TX    TX   \n",
      "\n",
      "                                   Metro          CountyName   2015-01-31  \\\n",
      "0  New York-Newark-Jersey City, NY-NJ-PA       Queens County  2519.633872   \n",
      "1     Los Angeles-Long Beach-Anaheim, CA  Los Angeles County  1829.491393   \n",
      "2   Houston-The Woodlands-Sugar Land, TX       Harris County  1192.772833   \n",
      "3     Chicago-Naperville-Elgin, IL-IN-WI         Cook County  1525.898035   \n",
      "4          San Antonio-New Braunfels, TX        Bexar County   994.108337   \n",
      "\n",
      "    2015-02-28  ...   2024-05-31   2024-06-30   2024-07-31   2024-08-31  \\\n",
      "0  2532.526220  ...  3471.695054  3507.169000  3527.537949  3530.370179   \n",
      "1  1844.612499  ...  2817.809080  2828.720362  2840.709137  2846.201537   \n",
      "2  1196.480207  ...  1588.762190  1599.384752  1603.832709  1605.936383   \n",
      "3  1534.847198  ...  2135.297477  2154.853317  2161.770567  2157.918278   \n",
      "4   997.530557  ...  1434.863066  1437.503190  1438.405606  1436.567604   \n",
      "\n",
      "    2024-09-30   2024-10-31   2024-11-30   2024-12-31   2025-01-31  \\\n",
      "0  3514.693097  3492.480172  3468.327426  3453.597591  3458.924544   \n",
      "1  2849.944139  2845.777630  2842.472672  2834.889984  2861.149444   \n",
      "2  1606.777190  1606.008116  1601.293595  1596.883827  1595.994789   \n",
      "3  2149.395505  2139.618246  2138.892360  2141.078458  2151.641380   \n",
      "4  1430.043966  1414.588476  1405.290319  1399.937448  1405.874726   \n",
      "\n",
      "    2025-02-28  \n",
      "0  3488.735636  \n",
      "1  2884.217593  \n",
      "2  1598.473864  \n",
      "3  2172.130290  \n",
      "4  1412.425356  \n",
      "\n",
      "[5 rows x 130 columns]\n",
      "\n",
      "Column names:\n",
      "['RegionID', 'SizeRank', 'RegionName', 'RegionType', 'StateName', 'State', 'Metro', 'CountyName', '2015-01-31', '2015-02-28', '2015-03-31', '2015-04-30', '2015-05-31', '2015-06-30', '2015-07-31', '2015-08-31', '2015-09-30', '2015-10-31', '2015-11-30', '2015-12-31', '2016-01-31', '2016-02-29', '2016-03-31', '2016-04-30', '2016-05-31', '2016-06-30', '2016-07-31', '2016-08-31', '2016-09-30', '2016-10-31', '2016-11-30', '2016-12-31', '2017-01-31', '2017-02-28', '2017-03-31', '2017-04-30', '2017-05-31', '2017-06-30', '2017-07-31', '2017-08-31', '2017-09-30', '2017-10-31', '2017-11-30', '2017-12-31', '2018-01-31', '2018-02-28', '2018-03-31', '2018-04-30', '2018-05-31', '2018-06-30', '2018-07-31', '2018-08-31', '2018-09-30', '2018-10-31', '2018-11-30', '2018-12-31', '2019-01-31', '2019-02-28', '2019-03-31', '2019-04-30', '2019-05-31', '2019-06-30', '2019-07-31', '2019-08-31', '2019-09-30', '2019-10-31', '2019-11-30', '2019-12-31', '2020-01-31', '2020-02-29', '2020-03-31', '2020-04-30', '2020-05-31', '2020-06-30', '2020-07-31', '2020-08-31', '2020-09-30', '2020-10-31', '2020-11-30', '2020-12-31', '2021-01-31', '2021-02-28', '2021-03-31', '2021-04-30', '2021-05-31', '2021-06-30', '2021-07-31', '2021-08-31', '2021-09-30', '2021-10-31', '2021-11-30', '2021-12-31', '2022-01-31', '2022-02-28', '2022-03-31', '2022-04-30', '2022-05-31', '2022-06-30', '2022-07-31', '2022-08-31', '2022-09-30', '2022-10-31', '2022-11-30', '2022-12-31', '2023-01-31', '2023-02-28', '2023-03-31', '2023-04-30', '2023-05-31', '2023-06-30', '2023-07-31', '2023-08-31', '2023-09-30', '2023-10-31', '2023-11-30', '2023-12-31', '2024-01-31', '2024-02-29', '2024-03-31', '2024-04-30', '2024-05-31', '2024-06-30', '2024-07-31', '2024-08-31', '2024-09-30', '2024-10-31', '2024-11-30', '2024-12-31', '2025-01-31', '2025-02-28']\n"
     ]
    }
   ],
   "source": [
    "# Read in the CSV file\n",
    "df = pd.read_csv('City_zori_uc_sfrcondomfr_sm_month.csv')\n",
    "\n",
    "# Display basic information about the dataframe\n",
    "print(\"DataFrame Info:\")\n",
    "print(df.info())\n",
    "\n",
    "# Show the first few rows\n",
    "print(\"\\nFirst few rows:\")\n",
    "print(df.head())\n",
    "\n",
    "# Display column names\n",
    "print(\"\\nColumn names:\")\n",
    "print(df.columns.tolist())\n"
   ]
  },
  {
   "cell_type": "markdown",
   "metadata": {},
   "source": [
    "So we can tell that the data is\n",
    "- One row per city (perfect)\n",
    "- Includes the metro area, state, county etc (not really  necessary)\n",
    "- And the observed rent (the mean of the 35th to 65th percentile, per Zillow)."
   ]
  },
  {
   "cell_type": "code",
   "execution_count": null,
   "metadata": {},
   "outputs": [],
   "source": []
  }
 ],
 "metadata": {
  "kernelspec": {
   "display_name": "Python 3",
   "language": "python",
   "name": "python3"
  },
  "language_info": {
   "codemirror_mode": {
    "name": "ipython",
    "version": 3
   },
   "file_extension": ".py",
   "mimetype": "text/x-python",
   "name": "python",
   "nbconvert_exporter": "python",
   "pygments_lexer": "ipython3",
   "version": "3.10.1"
  }
 },
 "nbformat": 4,
 "nbformat_minor": 4
}
